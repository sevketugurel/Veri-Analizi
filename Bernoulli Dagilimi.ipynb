{
 "cells": [
  {
   "attachments": {},
   "cell_type": "markdown",
   "metadata": {},
   "source": [
    "BERNOULLİ DAĞILIMI\n"
   ]
  },
  {
   "attachments": {},
   "cell_type": "markdown",
   "metadata": {},
   "source": [
    "$P(X = x) = p^x \\cdot (1 - p)^{1 - x}$\n",
    "\n",
    "\n",
    "Burada:\n",
    "- \\( P(X = x) \\), rastgele değişken X'in belirli bir değeri x'i alması olasılığını temsil eder.\n",
    "- x, yalnızca iki değer alabilir: 0 (başarısızlık) veya 1 (başarı).\n",
    "- p, başarı (1) elde etme olasılığını ifade eder. Bu olasılık p ile temsil edilir.\n",
    "- (1 - p), başarısızlık (0) elde etme olasılığını ifade eder.\n"
   ]
  },
  {
   "cell_type": "code",
   "execution_count": 1,
   "metadata": {},
   "outputs": [
    {
     "name": "stdout",
     "output_type": "stream",
     "text": [
      "Yazı gelme olasılığı 0.5 iken tura gelme olasılığı ise 0.5 dır\n",
      "Dağılım varyansı 0.25\n"
     ]
    }
   ],
   "source": [
    "from scipy import stats \n",
    "p=0.5 \n",
    "\n",
    "dagilim=stats.bernoulli(p)\n",
    "# Tura istemdiğimiz durum yani p = 0 olarak alıyoruz\n",
    "\n",
    "# PMF (Probability Mass Function), bir rastgele değişkenin herhangi bir belirli değeri alması olasılığını hesaplamak için kullanılan bir terimdir. \n",
    "tolasılık=dagilim.pmf(k=0)          \n",
    "yolasılık=dagilim.pmf (k=1) \n",
    "\n",
    "print(\"Yazı gelme olasılığı {} iken tura gelme olasılığı ise {} dır.\".format(yolasılık, tolasılık))\n",
    "\n",
    "print(\"Dağılım varyansı {}.\".format(dagilim.var()))"
   ]
  },
  {
   "cell_type": "code",
   "execution_count": null,
   "metadata": {},
   "outputs": [],
   "source": []
  }
 ],
 "metadata": {
  "kernelspec": {
   "display_name": "Python 3",
   "language": "python",
   "name": "python3"
  },
  "language_info": {
   "codemirror_mode": {
    "name": "ipython",
    "version": 3
   },
   "file_extension": ".py",
   "mimetype": "text/x-python",
   "name": "python",
   "nbconvert_exporter": "python",
   "pygments_lexer": "ipython3",
   "version": "3.11.0"
  },
  "orig_nbformat": 4,
  "vscode": {
   "interpreter": {
    "hash": "aee8b7b246df8f9039afb4144a1f6fd8d2ca17a180786b69acc140d282b71a49"
   }
  }
 },
 "nbformat": 4,
 "nbformat_minor": 2
}
