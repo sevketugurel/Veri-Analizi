{
 "cells": [
  {
   "attachments": {},
   "cell_type": "markdown",
   "metadata": {},
   "source": [
    "Aşağıda Ortalama Güven formülü bulunmaktadır"
   ]
  },
  {
   "attachments": {},
   "cell_type": "markdown",
   "metadata": {},
   "source": [
    "$$P \\left( x - Z_{\\frac{\\alpha}{2}} \\frac{\\sigma}{\\sqrt{n}} \\leq \\mu \\leq x + Z_{\\frac{\\alpha}{2}} \\frac{\\sigma}{\\sqrt{n}} \\right) = 1 - \\alpha$$\n"
   ]
  },
  {
   "attachments": {},
   "cell_type": "markdown",
   "metadata": {},
   "source": [
    "-----------"
   ]
  },
  {
   "attachments": {},
   "cell_type": "markdown",
   "metadata": {},
   "source": [
    "--Örnek-1\n",
    " Bir fabrikada rassal olarak seçilen 100 ürünün ortalama ağırlığı 1040 gr, standart sapması 25gr olarak bulunmuştur. Bu fabrikada üretilen tüm ürünlerin ortalama ağırlıkları %95 güven aralığında kaçtır? \n",
    "\n",
    "1035,1-1044,9"
   ]
  },
  {
   "cell_type": "code",
   "execution_count": 9,
   "metadata": {},
   "outputs": [
    {
     "name": "stdout",
     "output_type": "stream",
     "text": [
      "(1035.1000900386498, 1044.8999099613502)\n"
     ]
    }
   ],
   "source": [
    "import numpy as np \n",
    "from scipy import stats \n",
    "\n",
    "n=100 \n",
    "xort=1040 \n",
    "xstandart=25 \n",
    "guven=0.95 \n",
    "\n",
    "aralık = stats.norm.interval(confidence=guven, loc=xort, scale=xstandart/np.sqrt(n))\n",
    "print(aralık)"
   ]
  },
  {
   "attachments": {},
   "cell_type": "markdown",
   "metadata": {},
   "source": [
    "---------------------------------------------------"
   ]
  },
  {
   "attachments": {},
   "cell_type": "markdown",
   "metadata": {},
   "source": [
    "--Örnek2 -\n",
    "85 ev sahibi ile yapılan bir ankette, ev bakımına aylık olarak ortalama 67$ (standart sapma = 14$) harcadıkları tespit edilmiştir. Tüm ev sahiplerinin aylık ev bakım harcamaları için %95 güven aralığını oluşturunuz."
   ]
  },
  {
   "cell_type": "code",
   "execution_count": 8,
   "metadata": {},
   "outputs": [
    {
     "name": "stdout",
     "output_type": "stream",
     "text": [
      "(64.02376880867953, 69.97623119132047)\n"
     ]
    }
   ],
   "source": [
    "n=85\n",
    "xort=67 \n",
    "xstandart=14 \n",
    "guven=0.95\n",
    "\n",
    "aralık = stats.norm.interval(confidence=guven, loc=xort, scale=xstandart/np.sqrt(n))\n",
    "\n",
    "\n",
    "print(aralık)"
   ]
  },
  {
   "attachments": {},
   "cell_type": "markdown",
   "metadata": {},
   "source": [
    "------\n"
   ]
  },
  {
   "attachments": {},
   "cell_type": "markdown",
   "metadata": {},
   "source": [
    "ORTALAMA DEĞER T İÇİN"
   ]
  },
  {
   "attachments": {},
   "cell_type": "markdown",
   "metadata": {},
   "source": [
    "$P\\left(\\bar{x} - t_{\\frac{\\alpha}{2}, n-1} \\frac{s}{\\sqrt{n}} \\leq \\mu \\leq \\bar{x} + t_{\\frac{\\alpha}{2}, n-1} \\frac{s}{\\sqrt{n}}\\right)$\n"
   ]
  },
  {
   "cell_type": "code",
   "execution_count": 12,
   "metadata": {},
   "outputs": [
    {
     "name": "stdout",
     "output_type": "stream",
     "text": [
      "(130.6648465810475, 149.3351534189525)\n"
     ]
    }
   ],
   "source": [
    "import numpy as np\n",
    "from scipy import stats \n",
    "\n",
    "n=30 \n",
    "xort=140 \n",
    "xssapma=25 \n",
    "guven=0.95 \n",
    "sderecesi=n-1 \n",
    "\n",
    "aralık=stats.t.interval(confidence=guven, loc=xort, df=sderecesi, scale=xssapma/np.sqrt(n)) \n",
    "\n",
    "print (aralık)"
   ]
  },
  {
   "cell_type": "code",
   "execution_count": null,
   "metadata": {},
   "outputs": [],
   "source": []
  }
 ],
 "metadata": {
  "kernelspec": {
   "display_name": "Python 3",
   "language": "python",
   "name": "python3"
  },
  "language_info": {
   "codemirror_mode": {
    "name": "ipython",
    "version": 3
   },
   "file_extension": ".py",
   "mimetype": "text/x-python",
   "name": "python",
   "nbconvert_exporter": "python",
   "pygments_lexer": "ipython3",
   "version": "3.11.0"
  },
  "orig_nbformat": 4,
  "vscode": {
   "interpreter": {
    "hash": "aee8b7b246df8f9039afb4144a1f6fd8d2ca17a180786b69acc140d282b71a49"
   }
  }
 },
 "nbformat": 4,
 "nbformat_minor": 2
}
