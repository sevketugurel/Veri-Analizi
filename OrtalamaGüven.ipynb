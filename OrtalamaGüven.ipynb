{
 "cells": [
  {
   "attachments": {},
   "cell_type": "markdown",
   "metadata": {},
   "source": [
    "Aşağıda Ortalama Güven formülü bulunmaktadır"
   ]
  },
  {
   "attachments": {},
   "cell_type": "markdown",
   "metadata": {},
   "source": [
    "Tek Popülasyon \n",
    "\n",
    "1-Ortalama Tahmini Popülasyon Standart Sapması Bilinen\n",
    "\n",
    "- Z tablosu Popülasyon \n",
    " \n",
    " Standart Sapması Bilinmeyen \n",
    " - n>30 için z tablosu \n",
    " - n<30 için T tablosu"
   ]
  },
  {
   "attachments": {},
   "cell_type": "markdown",
   "metadata": {},
   "source": [
    "-----"
   ]
  },
  {
   "attachments": {},
   "cell_type": "markdown",
   "metadata": {},
   "source": [
    "$$P \\left( x - Z_{\\frac{\\alpha}{2}} \\frac{\\sigma}{\\sqrt{n}} \\leq \\mu \\leq x + Z_{\\frac{\\alpha}{2}} \\frac{\\sigma}{\\sqrt{n}} \\right) = 1 - \\alpha$$\n"
   ]
  },
  {
   "attachments": {},
   "cell_type": "markdown",
   "metadata": {},
   "source": [
    "-----------"
   ]
  },
  {
   "attachments": {},
   "cell_type": "markdown",
   "metadata": {},
   "source": [
    "--Örnek-1\n",
    " Bir fabrikada rassal olarak seçilen 100 ürünün ortalama ağırlığı 1040 gr, standart sapması 25gr olarak bulunmuştur. Bu fabrikada üretilen tüm ürünlerin ortalama ağırlıkları %95 güven aralığında kaçtır? \n",
    "\n",
    "1035,1-1044,9"
   ]
  },
  {
   "cell_type": "code",
   "execution_count": 3,
   "metadata": {},
   "outputs": [
    {
     "name": "stdout",
     "output_type": "stream",
     "text": [
      "(1035.1000900386498, 1044.8999099613502)\n"
     ]
    }
   ],
   "source": [
    "import numpy as np \n",
    "from scipy import stats \n",
    "\n",
    "n=100 \n",
    "xort=1040 \n",
    "xstandart=25 \n",
    "guven=0.95 \n",
    "\n",
    "aralık = stats.norm.interval(confidence=guven, loc=xort, scale=xstandart/np.sqrt(n))\n",
    "print(aralık)"
   ]
  },
  {
   "attachments": {},
   "cell_type": "markdown",
   "metadata": {},
   "source": [
    "---------------------------------------------------"
   ]
  },
  {
   "attachments": {},
   "cell_type": "markdown",
   "metadata": {},
   "source": [
    "--Örnek2 -\n",
    "85 ev sahibi ile yapılan bir ankette, ev bakımına aylık olarak ortalama 67$ (standart sapma = 14$) harcadıkları tespit edilmiştir. Tüm ev sahiplerinin aylık ev bakım harcamaları için %95 güven aralığını oluşturunuz."
   ]
  },
  {
   "cell_type": "code",
   "execution_count": 8,
   "metadata": {},
   "outputs": [
    {
     "name": "stdout",
     "output_type": "stream",
     "text": [
      "(64.02376880867953, 69.97623119132047)\n"
     ]
    }
   ],
   "source": [
    "n=85\n",
    "xort=67 \n",
    "xstandart=14 \n",
    "guven=0.95\n",
    "\n",
    "aralık = stats.norm.interval(confidence=guven, loc=xort, scale=xstandart/np.sqrt(n))\n",
    "\n",
    "\n",
    "print(aralık)"
   ]
  },
  {
   "attachments": {},
   "cell_type": "markdown",
   "metadata": {},
   "source": [
    "------\n"
   ]
  },
  {
   "attachments": {},
   "cell_type": "markdown",
   "metadata": {},
   "source": [
    "ORTALAMA DEĞER T İÇİN"
   ]
  },
  {
   "attachments": {},
   "cell_type": "markdown",
   "metadata": {},
   "source": [
    "$P\\left(\\bar{x} - t_{\\frac{\\alpha}{2}, n-1} \\frac{s}{\\sqrt{n}} \\leq \\mu \\leq \\bar{x} + t_{\\frac{\\alpha}{2}, n-1} \\frac{s}{\\sqrt{n}}\\right)$\n"
   ]
  },
  {
   "cell_type": "code",
   "execution_count": 12,
   "metadata": {},
   "outputs": [
    {
     "name": "stdout",
     "output_type": "stream",
     "text": [
      "(130.6648465810475, 149.3351534189525)\n"
     ]
    }
   ],
   "source": [
    "import numpy as np\n",
    "from scipy import stats \n",
    "\n",
    "n=30 \n",
    "xort=140 \n",
    "xssapma=25 \n",
    "guven=0.95 \n",
    "sderecesi=n-1 \n",
    "\n",
    "aralık=stats.t.interval(confidence=guven, loc=xort, df=sderecesi, scale=xssapma/np.sqrt(n)) \n",
    "\n",
    "print (aralık)"
   ]
  },
  {
   "attachments": {},
   "cell_type": "markdown",
   "metadata": {},
   "source": [
    "-------\n"
   ]
  },
  {
   "attachments": {},
   "cell_type": "markdown",
   "metadata": {},
   "source": [
    "İki Popülasyon \n",
    "\n",
    "1--Ortalamaların Farkı Tahmini Popülasyonların Standart Sapmaları Bilinen\n",
    "\n",
    " - Z tablosu \n",
    "\n",
    "Popülasyonların Standart Sapmaları Bilinmeyen\n",
    "\n",
    "- n1 ve n2>30 Z Tablosu \n",
    "- n1 ve n2<30 T Tablosu"
   ]
  },
  {
   "attachments": {},
   "cell_type": "markdown",
   "metadata": {},
   "source": [
    "-- İngilizce ve Fransızca eğitim alan iki öğrenci grubundan sırasıyla 30 ve 40 öğrenci seçiliyor. İngilizce grubu öğrencilerinin dili öğrenme süresi ortalaması 182 gün, Fransızca grubu için 176 gün olarak hesaplanıyor. Aynı gruplar için varyanslar sırasıyla 196 gün ve 144 gün olarak hesaplanıyor. Bu iki farklı dil kursuna giden ekiplerin öğrenme süreleri arasındaki fark %95 güven ile kaç gündür?"
   ]
  },
  {
   "attachments": {},
   "cell_type": "markdown",
   "metadata": {},
   "source": []
  },
  {
   "cell_type": "code",
   "execution_count": 4,
   "metadata": {},
   "outputs": [
    {
     "name": "stdout",
     "output_type": "stream",
     "text": [
      "(-0.2391331702703008, 12.2391331702703)\n"
     ]
    }
   ],
   "source": [
    "na=30 # n değeri a\n",
    "nb=40 # n değeri b\n",
    "vara=196 # varyans\n",
    "varb=144 \n",
    "orta=182 #ortalama\n",
    "ortb=176 \n",
    "guven=0.95  #güven aralığı\n",
    "\n",
    "aralık=stats.norm.interval(confidence=guven, loc=(orta-ortb), scale=np.sqrt((vara/na)+(varb/nb))) \n",
    "\n",
    "print(aralık)"
   ]
  },
  {
   "attachments": {},
   "cell_type": "markdown",
   "metadata": {},
   "source": [
    "--------"
   ]
  },
  {
   "attachments": {},
   "cell_type": "markdown",
   "metadata": {},
   "source": [
    "--2 farklı hasta grubu arasında 8 ve 10 bireylerden oluşan örneklemler çekilmiştir. Bu iki grubun bir virüse karşı reaksiyon verme zaman ortalamaları sırasıyla 3 ve 2.7'dir. Birleştirilmiş varyans 0.05 olarak hesaplandığına göre bu iki farklı hasta grubunun virüse karşı verdiği reaksiyon zaman farklarını %95 güven ile bulunuz? I"
   ]
  },
  {
   "cell_type": "code",
   "execution_count": 6,
   "metadata": {},
   "outputs": [
    {
     "name": "stdout",
     "output_type": "stream",
     "text": [
      "(0.07515008811712867, 0.524849911882871)\n"
     ]
    }
   ],
   "source": [
    "na=8 \n",
    "nb=10 \n",
    "birvar=0.05 \n",
    "orta=3 \n",
    "ortb=2.7 \n",
    "guven=0.95 \n",
    "n3=((1/na)+(1/nb)) \n",
    "\n",
    "aralık=stats.t.interval(confidence=guven,df=(na+nb-2),loc=(orta-ortb),scale=np.sqrt(n3*birvar)) \n",
    "\n",
    "print (aralık)"
   ]
  },
  {
   "cell_type": "code",
   "execution_count": null,
   "metadata": {},
   "outputs": [],
   "source": []
  }
 ],
 "metadata": {
  "kernelspec": {
   "display_name": "Python 3",
   "language": "python",
   "name": "python3"
  },
  "language_info": {
   "codemirror_mode": {
    "name": "ipython",
    "version": 3
   },
   "file_extension": ".py",
   "mimetype": "text/x-python",
   "name": "python",
   "nbconvert_exporter": "python",
   "pygments_lexer": "ipython3",
   "version": "3.11.0"
  },
  "orig_nbformat": 4,
  "vscode": {
   "interpreter": {
    "hash": "aee8b7b246df8f9039afb4144a1f6fd8d2ca17a180786b69acc140d282b71a49"
   }
  }
 },
 "nbformat": 4,
 "nbformat_minor": 2
}
