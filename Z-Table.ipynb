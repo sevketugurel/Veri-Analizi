{
 "cells": [
  {
   "attachments": {},
   "cell_type": "markdown",
   "metadata": {},
   "source": [
    "Anlaşılır Ekonomi - Z Table \n",
    "\n",
    "https://www.youtube.com/watch?v=TG2YXvSshkU&list=PLK8LlaNiWQOvAYUMGMTFeZIOo0oKmZhdw&index=26"
   ]
  },
  {
   "attachments": {},
   "cell_type": "markdown",
   "metadata": {},
   "source": [
    "Z score Olasılığını Bulmak\n"
   ]
  },
  {
   "cell_type": "code",
   "execution_count": 2,
   "metadata": {},
   "outputs": [
    {
     "name": "stdout",
     "output_type": "stream",
     "text": [
      "0.21185539858339675\n"
     ]
    }
   ],
   "source": [
    "from scipy.stats import norm \n",
    "olasılık=norm(loc=5.3, scale=1).cdf(4.5) # log burada ortlamayı scale ise standart sapma değerini ifade ediyor cdf ise bizim verdiğimiz değerdir\n",
    "print (olasılık)"
   ]
  },
  {
   "attachments": {},
   "cell_type": "markdown",
   "metadata": {},
   "source": [
    "İki Bölge Arasındaki Olasılık 4.5 ve 6.5 "
   ]
  },
  {
   "cell_type": "code",
   "execution_count": 3,
   "metadata": {},
   "outputs": [
    {
     "name": "stdout",
     "output_type": "stream",
     "text": [
      "0.673074931194895\n"
     ]
    }
   ],
   "source": [
    "ustsınır=norm (loc=5.3, scale=1).cdf (6.5) \n",
    "altsınır=norm(loc=5.3, scale=1).cdf (4.5) \n",
    "olasılık=ustsınır-altsınır\n",
    "print (olasılık)"
   ]
  },
  {
   "attachments": {},
   "cell_type": "markdown",
   "metadata": {},
   "source": [
    "Python Veri Analizi Olasılık Sorular\n"
   ]
  },
  {
   "attachments": {},
   "cell_type": "markdown",
   "metadata": {},
   "source": [
    "\n",
    "Bir kamu bankası personel alımı için ilana çıkmış ve iş için başvuran çok sayıda adaya, ekonomi, maliye, finans, işletme, hukuk alanlarında hazırlanan bir test uygulamıştır. Adayların uygulanan testte aldıkları puanların ortalaması 60 ve standart sapması 12 hesaplanmıştır. Adayların aldıkları puanların normal dağıldığı bilindiğine göre;\n",
    "\n",
    "1--Tesadüfen seçilecek bir adayın 60-70 arasında puan almış olma olasılığı nedir? Cevap : %29,67 \n",
    "\n",
    "2--Tesadüfen seçilecek bir adayın 45-60 arasında puan almış olması olasılığı nedir? Cevap : %39,44 \n",
    "\n",
    "3--Tesadüfen seçilecek bir adayın 45'den az puan alma olasılığı nedir? Cevap : %10,56\n"
   ]
  },
  {
   "attachments": {},
   "cell_type": "markdown",
   "metadata": {},
   "source": [
    "1--\n"
   ]
  },
  {
   "cell_type": "code",
   "execution_count": 4,
   "metadata": {},
   "outputs": [
    {
     "name": "stdout",
     "output_type": "stream",
     "text": [
      "0.29767161903635686\n"
     ]
    }
   ],
   "source": [
    "ustsınır=norm (loc=60, scale=12).cdf (70) \n",
    "altsınır=norm(loc=60, scale=12).cdf (60) \n",
    "olasılık=ustsınır-altsınır\n",
    "print (olasılık)"
   ]
  },
  {
   "attachments": {},
   "cell_type": "markdown",
   "metadata": {},
   "source": [
    "Bir imalathanede üretilen millerin çaplarının ortalaması 3.0005 inç ve standart sapmalarının ise 0.001 inç olan normal dağılıma uyduğu tespit edilmiştir. Üretilen miller eğer 3.000 ±0.002 inç aralığının dışında iseler bu miller hatalı üretim kabul edilmektedir. Buna göre toplam üretimdeki hatalı ürün miktarını bulunuz? \n",
    "Cevap : %7 "
   ]
  },
  {
   "cell_type": "code",
   "execution_count": 20,
   "metadata": {},
   "outputs": [
    {
     "name": "stdout",
     "output_type": "stream",
     "text": [
      "Toplam üretimdeki hatalı ürün yüzdesi: %7.301686659468522\n"
     ]
    }
   ],
   "source": [
    "# Normal dağılım parametreleri\n",
    "mu = 3.0005  # Ortalama\n",
    "sigma = 0.001  # Standart Sapma\n",
    "\n",
    "# Alt ve üst sınır değerleri\n",
    "alt_sinir = 3.000 - 0.002\n",
    "ust_sinir = 3.000 + 0.002\n",
    "\n",
    "# Alt sınırın Z skoru\n",
    "Z_alt = (alt_sinir - mu) / sigma\n",
    "\n",
    "# Üst sınırın Z skoru\n",
    "Z_ust = (ust_sinir - mu) / sigma\n",
    "\n",
    "# Hatalı ürünlerin olasılığını hesapla\n",
    "olasilik_hata = norm.cdf(Z_alt) + (1 - norm.cdf(Z_ust))\n",
    "\n",
    "# Hatalı ürünlerin yüzdesini bul ve yüzdeye çevir\n",
    "hatali_urun_yuzdesi = olasilik_hata * 100\n",
    "\n",
    "print(f\"Toplam üretimdeki hatalı ürün yüzdesi: %{hatali_urun_yuzdesi}\")\n"
   ]
  },
  {
   "cell_type": "code",
   "execution_count": null,
   "metadata": {},
   "outputs": [],
   "source": []
  }
 ],
 "metadata": {
  "kernelspec": {
   "display_name": "Python 3",
   "language": "python",
   "name": "python3"
  },
  "language_info": {
   "codemirror_mode": {
    "name": "ipython",
    "version": 3
   },
   "file_extension": ".py",
   "mimetype": "text/x-python",
   "name": "python",
   "nbconvert_exporter": "python",
   "pygments_lexer": "ipython3",
   "version": "3.11.0 (v3.11.0:deaf509e8f, Oct 24 2022, 14:43:23) [Clang 13.0.0 (clang-1300.0.29.30)]"
  },
  "orig_nbformat": 4,
  "vscode": {
   "interpreter": {
    "hash": "aee8b7b246df8f9039afb4144a1f6fd8d2ca17a180786b69acc140d282b71a49"
   }
  }
 },
 "nbformat": 4,
 "nbformat_minor": 2
}
