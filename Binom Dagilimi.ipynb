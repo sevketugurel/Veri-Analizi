{
 "cells": [
  {
   "attachments": {},
   "cell_type": "markdown",
   "metadata": {},
   "source": [
    "------"
   ]
  },
  {
   "attachments": {},
   "cell_type": "markdown",
   "metadata": {},
   "source": [
    "BİNOM DAĞILIMI"
   ]
  },
  {
   "attachments": {},
   "cell_type": "markdown",
   "metadata": {},
   "source": [
    "$$ P(X = k) = \\binom{n}{k} p^k (1-p)^{n-k} $$\n"
   ]
  },
  {
   "attachments": {},
   "cell_type": "markdown",
   "metadata": {},
   "source": [
    "-----------"
   ]
  },
  {
   "attachments": {},
   "cell_type": "markdown",
   "metadata": {},
   "source": [
    "Bir fabrikadaki kusurlu ürünlerin oranı %1 ve seçilen 10 ürünün hepsinin kusursuz olma olasılığı nedir?"
   ]
  },
  {
   "cell_type": "code",
   "execution_count": 2,
   "metadata": {},
   "outputs": [
    {
     "name": "stdout",
     "output_type": "stream",
     "text": [
      "Kusuruz olma ihtimali:  0.9043820750088044\n"
     ]
    }
   ],
   "source": [
    "from scipy import stats \n",
    "\n",
    "p=0.01 \n",
    "n=10 \n",
    "\n",
    "dagilim=stats.binom(n,p) \n",
    "# Bize yukarıda kusurlu oranı verildiği için o k=1 oluyor o yüzden bizde zıttını yani k=0 aldık\n",
    "kusursuz=dagilim.pmf (k=0) \n",
    "\n",
    "print(\"Kusuruz olma ihtimali: \",kusursuz)"
   ]
  },
  {
   "cell_type": "code",
   "execution_count": null,
   "metadata": {},
   "outputs": [],
   "source": []
  }
 ],
 "metadata": {
  "kernelspec": {
   "display_name": "Python 3",
   "language": "python",
   "name": "python3"
  },
  "language_info": {
   "codemirror_mode": {
    "name": "ipython",
    "version": 3
   },
   "file_extension": ".py",
   "mimetype": "text/x-python",
   "name": "python",
   "nbconvert_exporter": "python",
   "pygments_lexer": "ipython3",
   "version": "3.11.0"
  },
  "orig_nbformat": 4,
  "vscode": {
   "interpreter": {
    "hash": "aee8b7b246df8f9039afb4144a1f6fd8d2ca17a180786b69acc140d282b71a49"
   }
  }
 },
 "nbformat": 4,
 "nbformat_minor": 2
}
